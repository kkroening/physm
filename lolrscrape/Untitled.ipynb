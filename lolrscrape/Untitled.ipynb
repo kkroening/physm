{
 "cells": [
  {
   "cell_type": "code",
   "execution_count": 1,
   "metadata": {},
   "outputs": [],
   "source": [
    "from trainscrape import *"
   ]
  },
  {
   "cell_type": "code",
   "execution_count": 2,
   "metadata": {},
   "outputs": [],
   "source": [
    "city_map = get_city_mapping()"
   ]
  },
  {
   "cell_type": "code",
   "execution_count": 13,
   "metadata": {},
   "outputs": [
    {
     "data": {
      "text/plain": [
       "['1334',\n",
       " '88',\n",
       " '1795',\n",
       " '1905',\n",
       " '355',\n",
       " '96',\n",
       " '7238',\n",
       " '3798',\n",
       " '2468',\n",
       " '5178',\n",
       " '3048',\n",
       " '2998',\n",
       " '169',\n",
       " '1785',\n",
       " '6378',\n",
       " '14788',\n",
       " '107',\n",
       " '131',\n",
       " '1845',\n",
       " '3298',\n",
       " '3118',\n",
       " '6638',\n",
       " '118',\n",
       " '146',\n",
       " '113',\n",
       " '13938',\n",
       " '172',\n",
       " '3498',\n",
       " '13508',\n",
       " '3508',\n",
       " '1194',\n",
       " '3548',\n",
       " '94',\n",
       " '5408',\n",
       " '9398',\n",
       " '2015',\n",
       " '1374',\n",
       " '2075',\n",
       " '101',\n",
       " '3728',\n",
       " '2618',\n",
       " '2155',\n",
       " '1394',\n",
       " '7568',\n",
       " '89']"
      ]
     },
     "execution_count": 13,
     "metadata": {},
     "output_type": "execute_result"
    }
   ],
   "source": [
    "cities = [\n",
    "    'Amsterdam',\n",
    "    'Berlin',\n",
    "    'Budapest',\n",
    "    'Copenhagen',\n",
    "    'Dresden',\n",
    "    'Frankfurt',\n",
    "    'Oslo',\n",
    "    'Stockholm',\n",
    "\n",
    "    'Antwerp',\n",
    "    'Barcelona',\n",
    "    'Bari',\n",
    "    'Bologna',\n",
    "    'Bremen',\n",
    "    'Brussels',\n",
    "    'Bucharest',\n",
    "    'Catania',\n",
    "    'Cologne',\n",
    "    'Dortmund',\n",
    "    'Florence',\n",
    "    'Geneva',\n",
    "    'Genoa',\n",
    "    'Gothenburg',\n",
    "    'Hamburg',\n",
    "    'Hanover',\n",
    "    'Leipzig',\n",
    "    'Lisbon',\n",
    "    'Luxembourg',\n",
    "    'Lyon',\n",
    "    'Madrid',\n",
    "    'Marseille',\n",
    "    'Milan',\n",
    "    'Montpellier',\n",
    "    'Munich',\n",
    "    'Naples',\n",
    "    'Palermo',\n",
    "    'Paris',\n",
    "    'Prague',\n",
    "    'Rome',\n",
    "    'Stuttgart',\n",
    "    'Toulouse',\n",
    "    'Turin',\n",
    "    'Venice',\n",
    "    'Vienna',\n",
    "    'Warsaw',\n",
    "    'Zurich',\n",
    "]\n"
   ]
  },
  {
   "cell_type": "code",
   "execution_count": null,
   "metadata": {},
   "outputs": [],
   "source": []
  }
 ],
 "metadata": {
  "kernelspec": {
   "display_name": "Python 3",
   "language": "python",
   "name": "python3"
  },
  "language_info": {
   "codemirror_mode": {
    "name": "ipython",
    "version": 3
   },
   "file_extension": ".py",
   "mimetype": "text/x-python",
   "name": "python",
   "nbconvert_exporter": "python",
   "pygments_lexer": "ipython3",
   "version": "3.6.4"
  }
 },
 "nbformat": 4,
 "nbformat_minor": 2
}
