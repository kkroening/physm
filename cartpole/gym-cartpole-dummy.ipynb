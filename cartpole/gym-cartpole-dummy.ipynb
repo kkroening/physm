{
 "cells": [
  {
   "cell_type": "code",
   "execution_count": 1,
   "metadata": {},
   "outputs": [],
   "source": [
    "from ipywidgets import interact\n",
    "from IPython.display import display\n",
    "from xvfbwrapper import Xvfb\n",
    "import atexit\n",
    "import gym\n",
    "import numpy as np\n",
    "import os\n",
    "import PIL.Image"
   ]
  },
  {
   "cell_type": "code",
   "execution_count": 2,
   "metadata": {},
   "outputs": [
    {
     "name": "stdout",
     "output_type": "stream",
     "text": [
      "Started xvfb: DISPLAY=':1673940678'\n"
     ]
    }
   ],
   "source": [
    "if globals().get('virtual_display') is None or 'DISPLAY' not in os.environ:\n",
    "    try:\n",
    "        virtual_display = Xvfb()\n",
    "        virtual_display.start()\n",
    "    except:\n",
    "        virtual_display = None\n",
    "    atexit.register(virtual_display.stop)\n",
    "    print('Started xvfb: DISPLAY={!r}'.format(os.environ['DISPLAY']))\n",
    "else:\n",
    "    print('Using DISPLAY={!r}'.format(os.environ['DISPLAY']))"
   ]
  },
  {
   "cell_type": "code",
   "execution_count": 3,
   "metadata": {},
   "outputs": [],
   "source": [
    "def render(env, state=None):\n",
    "    if env is not None:\n",
    "        env.env.state = tuple(state)\n",
    "    return env.render(mode='rgb_array')\n",
    "\n",
    "\n",
    "def display_np_image(np_image):\n",
    "    display(PIL.Image.fromarray(np_image, 'RGB'))\n",
    "\n",
    "\n",
    "def display_render(env, state=None):\n",
    "    frame = render(env, state)\n",
    "    display_np_image(frame)"
   ]
  },
  {
   "cell_type": "code",
   "execution_count": 4,
   "metadata": {},
   "outputs": [],
   "source": [
    "env = gym.make('CartPole-v0')"
   ]
  },
  {
   "cell_type": "code",
   "execution_count": null,
   "metadata": {},
   "outputs": [],
   "source": [
    "def run_simulation(action_func, max_time=50):\n",
    "    observation = env.reset()\n",
    "\n",
    "    states = []\n",
    "    observations = []\n",
    "    rewards = []\n",
    "    for i in range(max_time):\n",
    "        action = action_func(observation)\n",
    "        observation, reward, done, info = env.step(action)\n",
    "        states.append(env.env.state)\n",
    "        observations.append(observation)\n",
    "        rewards.append(reward)\n",
    "\n",
    "    states = np.stack(states)\n",
    "    observations = np.stack(observations)\n",
    "    rewards = np.stack(rewards)\n",
    "    return states, observations, rewards"
   ]
  },
  {
   "cell_type": "code",
   "execution_count": null,
   "metadata": {},
   "outputs": [],
   "source": [
    "states, observations, rewards = run_simulation(lambda observation: 0)\n",
    "\n",
    "@interact(time=(0, len(states) - 1))\n",
    "def f(time=0):\n",
    "    state = states[time]\n",
    "    display_render(env, state)"
   ]
  },
  {
   "cell_type": "code",
   "execution_count": null,
   "metadata": {},
   "outputs": [],
   "source": [
    "observations"
   ]
  }
 ],
 "metadata": {
  "kernelspec": {
   "display_name": "Python 3",
   "language": "python",
   "name": "python3"
  },
  "language_info": {
   "codemirror_mode": {
    "name": "ipython",
    "version": 3
   },
   "file_extension": ".py",
   "mimetype": "text/x-python",
   "name": "python",
   "nbconvert_exporter": "python",
   "pygments_lexer": "ipython3",
   "version": "3.7.2"
  }
 },
 "nbformat": 4,
 "nbformat_minor": 4
}
