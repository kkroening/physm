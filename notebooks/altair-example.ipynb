{
 "cells": [
  {
   "cell_type": "code",
   "execution_count": null,
   "metadata": {},
   "outputs": [],
   "source": [
    "from altair.expr import datum\n",
    "from vega_datasets import data\n",
    "import altair as alt\n",
    "import pandas as pd\n",
    "\n",
    "alt.renderers.enable('notebook')"
   ]
  },
  {
   "cell_type": "code",
   "execution_count": null,
   "metadata": {},
   "outputs": [],
   "source": [
    "iris = data.iris()\n",
    "\n",
    "alt.Chart(iris).mark_point().encode(\n",
    "    x='petalLength',\n",
    "    y='petalWidth',\n",
    "    color='species'\n",
    ")"
   ]
  },
  {
   "cell_type": "code",
   "execution_count": null,
   "metadata": {},
   "outputs": [],
   "source": [
    "df = pd.DataFrame([\n",
    "      {\"x\": 1,  \"y\": 28}, {\"x\": 2,  \"y\": 55},\n",
    "      {\"x\": 3,  \"y\": 43}, {\"x\": 4,  \"y\": 91},\n",
    "      {\"x\": 5,  \"y\": 81}, {\"x\": 6,  \"y\": 53},\n",
    "      {\"x\": 7,  \"y\": 19}, {\"x\": 8,  \"y\": 87},\n",
    "      {\"x\": 9,  \"y\": 52}, {\"x\": 10, \"y\": 48},\n",
    "      {\"x\": 11, \"y\": 24}, {\"x\": 12, \"y\": 49},\n",
    "      {\"x\": 13, \"y\": 87}, {\"x\": 14, \"y\": 66},\n",
    "      {\"x\": 15, \"y\": 17}, {\"x\": 16, \"y\": 27},\n",
    "      {\"x\": 17, \"y\": 68}, {\"x\": 18, \"y\": 16},\n",
    "      {\"x\": 19, \"y\": 49}, {\"x\": 20, \"y\": 15}\n",
    "    ])\n",
    "\n",
    "area1 = alt.Chart(df).mark_area(\n",
    "    clip=True,\n",
    "    interpolate='monotone'\n",
    ").encode(\n",
    "    alt.X('x', scale=alt.Scale(zero=False, nice=False)),\n",
    "    alt.Y('y', scale=alt.Scale(domain=[0, 50]), axis=alt.Axis(title='y')),\n",
    "    opacity=alt.value(0.6)\n",
    ").properties(\n",
    "    width=500,\n",
    "    height=75\n",
    ")\n",
    "\n",
    "area2 = area1.encode(\n",
    "    alt.Y('ny:Q', scale=alt.Scale(domain=[0, 50]))\n",
    ").transform_calculate(\n",
    "    \"ny\", datum.y - 50\n",
    ")\n",
    "\n",
    "area1 + area2"
   ]
  },
  {
   "cell_type": "code",
   "execution_count": null,
   "metadata": {},
   "outputs": [],
   "source": [
    "pts = alt.selection(type=\"single\", encodings=['x'])\n",
    "\n",
    "rect = alt.Chart(data.movies.url).mark_rect().encode(\n",
    "    alt.X('IMDB_Rating:Q', bin=True),\n",
    "    alt.Y('Rotten_Tomatoes_Rating:Q', bin=True),\n",
    "    alt.Color('count()',\n",
    "        scale=alt.Scale(scheme='greenblue'),\n",
    "        legend=alt.Legend(title='Total Records')\n",
    "    )\n",
    ")\n",
    "\n",
    "circ = rect.mark_point().encode(\n",
    "    alt.ColorValue('grey'),\n",
    "    alt.Size('count()',\n",
    "        legend=alt.Legend(title='Records in Selection')\n",
    "    )\n",
    ").transform_filter(\n",
    "    pts.ref()\n",
    ")\n",
    "\n",
    "bar = alt.Chart(data.movies.url).mark_bar().encode(\n",
    "    x='Major_Genre:N',\n",
    "    y='count()',\n",
    "    color=alt.condition(pts, alt.ColorValue(\"steelblue\"), alt.ColorValue(\"grey\"))\n",
    ").properties(\n",
    "    selection=pts,\n",
    "    width=550,\n",
    "    height=200\n",
    ")\n",
    "\n",
    "alt.vconcat(\n",
    "    rect + circ,\n",
    "    bar\n",
    ").resolve_legend(\n",
    "    color=\"independent\",\n",
    "    size=\"independent\"\n",
    ")"
   ]
  },
  {
   "cell_type": "code",
   "execution_count": null,
   "metadata": {},
   "outputs": [],
   "source": [
    "import altair as alt\n",
    "from vega_datasets import data\n",
    "\n",
    "source = data.unemployment_across_industries.url\n",
    "\n",
    "alt.Chart(source).mark_area().encode(\n",
    "    alt.X('date:T',\n",
    "        timeUnit='yearmonth',\n",
    "        axis=alt.Axis(format='%Y', domain=False, tickSize=0)\n",
    "    ),\n",
    "    alt.Y('sum(count):Q', stack='center', axis=None),\n",
    "    alt.Color('series:N',\n",
    "        scale=alt.Scale(scheme='category20b')\n",
    "    )\n",
    ").interactive()"
   ]
  }
 ],
 "metadata": {
  "kernelspec": {
   "display_name": "Python 3",
   "language": "python",
   "name": "python3"
  },
  "language_info": {
   "codemirror_mode": {
    "name": "ipython",
    "version": 3
   },
   "file_extension": ".py",
   "mimetype": "text/x-python",
   "name": "python",
   "nbconvert_exporter": "python",
   "pygments_lexer": "ipython3",
   "version": "3.5.3"
  }
 },
 "nbformat": 4,
 "nbformat_minor": 2
}
