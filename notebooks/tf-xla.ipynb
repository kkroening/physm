{
 "cells": [
  {
   "cell_type": "code",
   "execution_count": 1,
   "metadata": {},
   "outputs": [],
   "source": [
    "import os\n",
    "os.environ['XLA_FLAGS'] = '--xla_dump_hlo_as_text --xla_dump_to=/home/karl/tmp/hlo'\n",
    "os.environ['TF_XLA_FLAGS'] = '--tf_xla_cpu_global_jit'\n",
    "import tensorflow as tf\n",
    "tf.config.optimizer.set_jit(True)"
   ]
  },
  {
   "cell_type": "code",
   "execution_count": 19,
   "metadata": {},
   "outputs": [],
   "source": [
    "from functools import reduce\n",
    "from IPython.display import display\n",
    "from IPython.display import Image\n",
    "import contextlib\n",
    "import io\n",
    "import numpy as np\n",
    "import PIL\n",
    "import tensorflow as tf\n",
    "from matplotlib import pyplot as plt\n",
    "from jupyter_renderer_widget import Renderer\n",
    "from jupyter_renderer_widget import PyplotRenderer"
   ]
  },
  {
   "cell_type": "code",
   "execution_count": 22,
   "metadata": {},
   "outputs": [
    {
     "name": "stdout",
     "output_type": "stream",
     "text": [
      "tf.Tensor([101], shape=(1,), dtype=int32)\n"
     ]
    }
   ],
   "source": [
    "@tf.function\n",
    "def square(x):\n",
    "    for i in range(2):\n",
    "        x = x ** 2 + 1\n",
    "    return x\n",
    "\n",
    "print(square(tf.constant(tf.convert_to_tensor([3]))))"
   ]
  },
  {
   "cell_type": "code",
   "execution_count": null,
   "metadata": {},
   "outputs": [],
   "source": [
    "ones_int8 = tf.ones((1, 1), dtype=tf.int8)\n",
    "ones_int16 = tf.ones((1, 1), dtype=tf.int16)\n",
    "ones_int32 = tf.ones((1, 1), dtype=tf.int32)\n",
    "ones_int64 = tf.ones((1, 1), dtype=tf.int64)\n",
    "ones_uint8 = tf.ones((1, 1), dtype=tf.uint8)\n",
    "ones_uint16 = tf.ones((1, 1), dtype=tf.uint16)\n",
    "ones_uint32 = tf.ones((1, 1), dtype=tf.uint32)\n",
    "ones_uint64 = tf.ones((1, 1), dtype=tf.uint64)\n",
    "ones_float32 = tf.ones((1, 1), dtype=tf.float32)\n",
    "ones_float64 = tf.ones((1, 1), dtype=tf.float64)\n",
    "\n",
    "ones_float32 + 1"
   ]
  }
 ],
 "metadata": {
  "kernelspec": {
   "display_name": "Python 3",
   "language": "python",
   "name": "python3"
  },
  "language_info": {
   "codemirror_mode": {
    "name": "ipython",
    "version": 3
   },
   "file_extension": ".py",
   "mimetype": "text/x-python",
   "name": "python",
   "nbconvert_exporter": "python",
   "pygments_lexer": "ipython3",
   "version": "3.7.2"
  }
 },
 "nbformat": 4,
 "nbformat_minor": 4
}
