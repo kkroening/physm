{
 "cells": [
  {
   "cell_type": "markdown",
   "metadata": {},
   "source": [
    "# Prob/stats demo notebook: expected value of transformed random variable\n",
    "\n",
    "This notebook show how transforming a random variable produces a new probability distribution for the transformed random variable, with a transformed expected value.\n",
    "\n",
    "Sympy is used to automatically invert and differentiate the transformation function to satisfy the formula for Chapter 3.5 Theorem 8 in Lindgren's Statistical Theory book."
   ]
  },
  {
   "cell_type": "code",
   "execution_count": null,
   "metadata": {},
   "outputs": [],
   "source": [
    "from IPython.display import display\n",
    "from IPython.display import Markdown\n",
    "from matplotlib import pyplot as plt\n",
    "import numpy as np\n",
    "import sympy as sp\n",
    "import warnings"
   ]
  },
  {
   "cell_type": "code",
   "execution_count": null,
   "metadata": {},
   "outputs": [],
   "source": [
    "x_sym, y_sym = sp.symbols('x y')\n",
    "x_min, x_max = 0., 2.\n",
    "y_min, y_max = 0., 4.\n",
    "show_info = True\n",
    "\n",
    "x_pdf_expr = sp.sympify(1 / (x_max - x_min))\n",
    "g_expr = x_sym ** 2\n",
    "assumptions = sp.Q.positive(y_sym)"
   ]
  },
  {
   "cell_type": "code",
   "execution_count": null,
   "metadata": {},
   "outputs": [],
   "source": [
    "g_inv_exprs = sp.solve(sp.Eq(y_sym, g_expr), x_sym)\n",
    "#g_inv_expr = sp.refine(sum([abs(tmp) for tmp in g_inv_exprs]), assumptions)\n",
    "g_inv_expr = g_inv_exprs[1]\n",
    "g_inv_diff_expr = sp.diff(g_inv_expr, y_sym)\n",
    "y_pdf_expr = x_pdf_expr.subs(x_sym, g_inv_expr) * abs(g_inv_diff_expr)\n",
    "\n",
    "\n",
    "if show_info:\n",
    "    display(\n",
    "        Markdown('**Transformed random variable**:'),\n",
    "        sp.Eq(sp.Symbol('Y'), y_expr.subs(x_sym, sp.Symbol('X'))),\n",
    "        Markdown('**Probability density function `x_pdf`**:'),\n",
    "        sp.Eq(\n",
    "            sp.Symbol('f_X'),\n",
    "            x_pdf_expr,\n",
    "        ),\n",
    "        Markdown('(Integral: {:.2f})'.format(sp.integrate(x_pdf_expr, (x_sym, x_min, x_max)).evalf())),\n",
    "        Markdown('**Transformation function `g`**:'),\n",
    "        sp.Eq(\n",
    "            sp.Symbol('g'),\n",
    "            g_expr,\n",
    "        ),\n",
    "        Markdown('**Inverse transformation function `g_inv`**:'),\n",
    "        sp.Eq(\n",
    "            sp.Symbol('g__-1'),\n",
    "            g_inv_expr,\n",
    "        ),\n",
    "        Markdown('**Derivative of inverse transformation function `g_inv_diff`**:'),\n",
    "        sp.Eq(\n",
    "            #sp.diff(sp.Symbol('g__-1'), y_sym),  # FIXME: shows `0`\n",
    "            sp.Symbol('dg__-1'),\n",
    "            g_inv_diff_expr,\n",
    "        ),\n",
    "        Markdown('**Transformed probability density function `y_pdf`**:'),\n",
    "        sp.Eq(\n",
    "            sp.Symbol('f_Y'),\n",
    "            y_pdf_expr,\n",
    "        ),\n",
    "        Markdown('(Integral: {:.2f})'.format(sp.integrate(y_pdf_expr, (y_sym, y_min, y_max)).evalf())),\n",
    "    )\n",
    "\n",
    "g = sp.lambdify(x_sym, y_expr)\n",
    "x_pdf_expr_hack = 0.00001 * x_sym + x_pdf_expr  # hack to make correct input/output shapes\n",
    "x_pdf = sp.lambdify(x_sym, x_pdf_expr_hack)\n",
    "y_pdf = sp.lambdify(y_sym, y_pdf_expr)\n",
    "\n",
    "xs = np.linspace(x_min, x_max, 50)\n",
    "ys = np.linspace(y_min + 0.01, y_max, 50)\n",
    "e_x = np.sum(xs * x_pdf(xs)) * (x_max - x_min) / len(xs)\n",
    "e_y = np.sum(ys * y_pdf(ys)) * (y_max - y_min) / len(ys)\n",
    "\n",
    "fig, ax = plt.subplots(1, 1, figsize=(10, 6))\n",
    "ax.set_xlim(0, 2)\n",
    "ax.set_ylim(0, 4)\n",
    "ax.plot(xs, g(xs))\n",
    "ax.plot(xs, x_pdf(xs))\n",
    "ax.plot(y_pdf(ys), ys)\n",
    "ax.axhline(e_y, c='k', ls='--', lw=1.)\n",
    "ax.axvline(e_x, c='k', ls='--', lw=1.)\n",
    "\n",
    "None"
   ]
  }
 ],
 "metadata": {
  "kernelspec": {
   "display_name": "Python 3",
   "language": "python",
   "name": "python3"
  },
  "language_info": {
   "codemirror_mode": {
    "name": "ipython",
    "version": 3
   },
   "file_extension": ".py",
   "mimetype": "text/x-python",
   "name": "python",
   "nbconvert_exporter": "python",
   "pygments_lexer": "ipython3",
   "version": "3.7.2"
  }
 },
 "nbformat": 4,
 "nbformat_minor": 4
}
