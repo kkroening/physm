{
 "cells": [
  {
   "cell_type": "code",
   "execution_count": null,
   "metadata": {},
   "outputs": [],
   "source": [
    "from functools import reduce\n",
    "from IPython.display import display\n",
    "from IPython.display import Image\n",
    "import io\n",
    "import numpy as np\n",
    "import PIL\n",
    "import tensorflow as tf\n",
    "from matplotlib import pyplot as plt\n",
    "from jupyter_renderer_widget import Renderer\n",
    "from jupyter_renderer_widget import PyplotRenderer"
   ]
  },
  {
   "cell_type": "code",
   "execution_count": null,
   "metadata": {},
   "outputs": [],
   "source": [
    "def tf_to_pil(image):\n",
    "    image = image.numpy() * 255\n",
    "    image = image.astype(np.uint8)\n",
    "    return PIL.Image.fromarray(image, 'L')"
   ]
  },
  {
   "cell_type": "code",
   "execution_count": null,
   "metadata": {},
   "outputs": [],
   "source": [
    "x_offset = 0.2599368\n",
    "y_offset = 0.0016\n",
    "width, height = 320, 200\n",
    "initial_range = 2.\n",
    "zoom_factor = 0.9\n",
    "color = np.array([0x8c, 0xc4, 0xfc])\n",
    "\n",
    "\n",
    "def colorize(im):\n",
    "    return tf.stack(\n",
    "        [\n",
    "            im * color[0],\n",
    "            im * color[1],\n",
    "            im * color[2],\n",
    "        ],\n",
    "        axis=2\n",
    "    )\n",
    "\n",
    "def render_mandelbrot(t, niterations=150):\n",
    "    x_zoom = np.exp(np.log(initial_range) + t * np.log(zoom_factor));\n",
    "    y_zoom = x_zoom * height / width\n",
    "    x = tf.cast(tf.linspace(-x_zoom + x_offset, x_zoom + x_offset, width), tf.complex128)\n",
    "    y = tf.cast(tf.linspace(-x_zoom + y_offset, x_zoom + y_offset, height), tf.complex128) * 1j\n",
    "    x, y = tf.meshgrid(x, y)\n",
    "    c = x + y\n",
    "    zs = [c]\n",
    "    for i in range(1, niterations):\n",
    "        zs.append(zs[-1] ** 2 + c)\n",
    "\n",
    "    r7 = tf.abs(tf.stack(zs))\n",
    "    r8 = tf.range(niterations)\n",
    "    r8 = tf.expand_dims(r8, 1)\n",
    "    r8 = tf.expand_dims(r8, 2)\n",
    "    r8 = tf.tile(r8, [1, height, width])\n",
    "    r9 = tf.zeros(r8.shape, r8.dtype)\n",
    "    r10 = tf.where(r7 > 2, r9, r8)\n",
    "    r11 = tf.reduce_max(r10, 0) / niterations\n",
    "    return colorize(r11).numpy()\n",
    "    #tf_to_pil(r11)"
   ]
  },
  {
   "cell_type": "code",
   "execution_count": null,
   "metadata": {},
   "outputs": [],
   "source": [
    "Renderer(render_mandelbrot, frame_count=160)"
   ]
  },
  {
   "cell_type": "code",
   "execution_count": null,
   "metadata": {},
   "outputs": [],
   "source": [
    "def render_pyplot(ax, t):\n",
    "    y2 = t if t < 10 else 20 - t\n",
    "    ax.plot([0, 10], [5, y2])\n",
    "    ax.set_xlim([0, 10])\n",
    "    ax.set_ylim([0, 10])\n",
    "    \n",
    "PyplotRenderer(render_pyplot, frame_count=20, width=640, height=400)"
   ]
  },
  {
   "cell_type": "code",
   "execution_count": null,
   "metadata": {},
   "outputs": [],
   "source": [
    "from jupyter_renderer_widget import Renderer\n",
    "import numpy as np\n",
    "\n",
    "def draw_colored_box(im, x, y, width, height, color):\n",
    "    im[y:y+height, x:x+width, :] = color\n",
    "    return im\n",
    "\n",
    "def render(frame_num):\n",
    "    im = np.ones((400, 640, 3), dtype=np.uint8) * 255\n",
    "    x = 40 + 20 * (frame_num if frame_num < 20 else 40 - frame_num)\n",
    "    return draw_colored_box(im, x, 100, 80, 80, [0x53, 0x7a, 0xff])\n",
    "\n",
    "display(Renderer(render, 40))"
   ]
  },
  {
   "cell_type": "code",
   "execution_count": null,
   "metadata": {},
   "outputs": [],
   "source": [
    "from jupyter_renderer_widget import PyplotRenderer\n",
    "\n",
    "def render_pyplot(ax, t):\n",
    "    ax.plot([0, 10], [5, t if t < 10 else 20 - t])\n",
    "    ax.set_xlim([0, 10])\n",
    "    ax.set_ylim([0, 10])\n",
    "\n",
    "PyplotRenderer(render_pyplot, frame_count=20, width=640, height=400)"
   ]
  },
  {
   "cell_type": "code",
   "execution_count": null,
   "metadata": {},
   "outputs": [],
   "source": [
    "from jupyter_renderer_widget import PyplotRenderer\n",
    "\n",
    "def render_pyplot(ax, t):\n",
    "    ax.plot([0, 10], [5, t if t < 10 else 20 - t])\n",
    "    ax.set_xlim([0, 10])\n",
    "    ax.set_ylim([0, 10])\n",
    "\n",
    "PyplotRenderer(render_pyplot, frame_count=20, width=640, height=400)"
   ]
  }
 ],
 "metadata": {
  "kernelspec": {
   "display_name": "Python 3",
   "language": "python",
   "name": "python3"
  },
  "language_info": {
   "codemirror_mode": {
    "name": "ipython",
    "version": 3
   },
   "file_extension": ".py",
   "mimetype": "text/x-python",
   "name": "python",
   "nbconvert_exporter": "python",
   "pygments_lexer": "ipython3",
   "version": "3.7.2"
  }
 },
 "nbformat": 4,
 "nbformat_minor": 4
}
