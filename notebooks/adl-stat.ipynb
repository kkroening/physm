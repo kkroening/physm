{
 "cells": [
  {
   "cell_type": "code",
   "execution_count": null,
   "metadata": {},
   "outputs": [],
   "source": [
    "import numpy as np\n",
    "from matplotlib import pyplot as plt"
   ]
  },
  {
   "cell_type": "code",
   "execution_count": null,
   "metadata": {},
   "outputs": [],
   "source": [
    "np.random.seed(37)"
   ]
  },
  {
   "cell_type": "code",
   "execution_count": null,
   "metadata": {},
   "outputs": [],
   "source": [
    "def make_distribution(n):\n",
    "    unnormalized = np.random.sample(n)\n",
    "    return unnormalized / unnormalized.sum()\n",
    "\n",
    "def random_cdf_sample(cdf):\n",
    "    sample = np.random.random()\n",
    "    return np.argmax([x >= sample for x in cdf])\n",
    "\n",
    "def random_cdf_samples(cdf, count):\n",
    "    return np.array([random_cdf_sample(cdf) for _ in range(counta)])\n",
    "\n",
    "\n",
    "N = 10\n",
    "\n",
    "dist_a = make_distribution(N)\n",
    "dist_b_given_a = np.array([make_distribution(N) for _ in range(N)])\n",
    "# Note: dist_b_given_a[3] gives the probability distribution of B given A=3\n",
    "\n",
    "cdf_a = np.cumsum(dist_a)\n",
    "cdf_b_given_a = np.array([np.cumsum(dist_b) for dist_b in dist_b_given_a])\n",
    "\n",
    "a_samples = [random_cdf_sample(cdf_a) for _ in range(10000)]\n",
    "b_samples = [random_cdf_sample(cdf_b_given_a[a]) for a in a_samples]\n",
    "sample_pairs = list(zip(a_samples, b_samples))\n",
    "\n",
    "fig, (ax0, ax1) = plt.subplots(1, 2, figsize=(16, 4))\n",
    "ax0.bar(range(N), dist_a)\n",
    "ax0.set_title('P(A)  (ground truth)')\n",
    "ax1.hist(a_samples, np.arange(len(dist_a) + 1))\n",
    "ax1.set_title('P(A)  (actual)')"
   ]
  },
  {
   "cell_type": "code",
   "execution_count": null,
   "metadata": {},
   "outputs": [],
   "source": [
    "def measure_dist_b_given_a(sample_pairs, given_a):\n",
    "    \"\"\"Determine the actual distribution of `P(B=b|A=a)` from a set of sample\n",
    "    pairs and a value of `a`.  Returns a list of probabilities, one for each\n",
    "    value of `b`.\n",
    "    \"\"\"\n",
    "    # Select from only the samples where `a == given_a`:\n",
    "    b_values = [b for (a, b) in sample_pairs if a == given_a]\n",
    "    dist_b_given_a = []\n",
    "    for b in range(N):\n",
    "        count = len([True for b2 in b_values if b2 == b])\n",
    "        dist_b_given_a.append(count / len(b_values))\n",
    "    return dist_b_given_a\n",
    "\n",
    "\n",
    "actual_dist_b_given_a = [measure_dist_b_given_a(sample_pairs, a) for a in range(N)]\n",
    "a = 3\n",
    "\n",
    "for a in range(N):\n",
    "    fig, (ax0, ax1) = plt.subplots(1, 2, figsize=(16, 4))\n",
    "    ax0.bar(range(N), dist_b_given_a[a])\n",
    "    ax0.set_title('P(B|A={})  (ground truth)'.format(a))\n",
    "\n",
    "    ax1.bar(range(N), actual_dist_b_given_a[a])\n",
    "    ax1.set_title('P(B|A={})  (actual)'.format(a))\n"
   ]
  },
  {
   "cell_type": "code",
   "execution_count": null,
   "metadata": {},
   "outputs": [],
   "source": [
    "sample_pairs"
   ]
  },
  {
   "cell_type": "code",
   "execution_count": null,
   "metadata": {},
   "outputs": [],
   "source": []
  }
 ],
 "metadata": {
  "kernelspec": {
   "display_name": "Python 3",
   "language": "python",
   "name": "python3"
  },
  "language_info": {
   "codemirror_mode": {
    "name": "ipython",
    "version": 3
   },
   "file_extension": ".py",
   "mimetype": "text/x-python",
   "name": "python",
   "nbconvert_exporter": "python",
   "pygments_lexer": "ipython3",
   "version": "3.7.2"
  }
 },
 "nbformat": 4,
 "nbformat_minor": 4
}
