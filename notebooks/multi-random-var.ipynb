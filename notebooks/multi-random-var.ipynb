{
 "cells": [
  {
   "cell_type": "markdown",
   "metadata": {},
   "source": [
    "# Probability distributions of functions of multiple random variables"
   ]
  },
  {
   "cell_type": "code",
   "execution_count": null,
   "metadata": {},
   "outputs": [],
   "source": [
    "import numpy as np\n",
    "import scipy.special\n",
    "import scipy.stats\n",
    "from ipywidgets import interact\n",
    "from matplotlib import pyplot as plt"
   ]
  },
  {
   "cell_type": "code",
   "execution_count": null,
   "metadata": {},
   "outputs": [],
   "source": [
    "@interact(\n",
    "    n=(1, 100),\n",
    "    p=(0., 1., 0.05),\n",
    ")\n",
    "def f(n=15, p=0.5):\n",
    "    x = np.linspace(0, n, n + 1)\n",
    "    y1 = scipy.stats.norm.pdf(x, loc=n * p, scale=n / 6)\n",
    "    y2 = scipy.stats.binom.pmf(x, n, p)\n",
    "    plt.plot(x, y1)\n",
    "    plt.plot(x, y2)\n",
    "    plt.legend(['Normal', 'Binomial'])\n",
    "    plt.title('Normal vs Binomial distribution')"
   ]
  },
  {
   "cell_type": "code",
   "execution_count": null,
   "metadata": {},
   "outputs": [],
   "source": [
    "@interact(\n",
    "    lamb=(-3., 3.),\n",
    "    max_t=(1, 100, 1),\n",
    ")\n",
    "def f(lamb=1., p=0.5, max_t=10):\n",
    "    for k in range(5):\n",
    "        t_values = np.linspace(0, max_t, 100)\n",
    "        xt_values = scipy.stats.poisson.pmf(k, lamb * t_values)\n",
    "        plot, = plt.plot(t_values, xt_values)\n",
    "        plot.set_label(f'k={k}')\n",
    "    plt.xlabel('time')\n",
    "    plt.ylabel('probability')\n",
    "    plt.legend()\n",
    "    plt.title('Poisson distribution')"
   ]
  },
  {
   "cell_type": "code",
   "execution_count": null,
   "metadata": {},
   "outputs": [],
   "source": [
    "n = 10\n",
    "p = 0.5\n",
    "x = np.linspace(-2, n + 1, n + 4)\n",
    "y = scipy.stats.uniform.pdf(x, 0, n - 1) * (n - 1) / n\n",
    "plt.plot(x, y)"
   ]
  },
  {
   "cell_type": "code",
   "execution_count": null,
   "metadata": {},
   "outputs": [],
   "source": [
    "def make_uniform(x1, x2):\n",
    "    n = x2 - x1 + 1\n",
    "    values = np.linspace(x1, x2, n)\n",
    "    pmf = scipy.stats.uniform.pdf(values, x1, n)\n",
    "    return values, pmf\n",
    "\n",
    "def make_ramp(x1, x2):\n",
    "    n = x2 - x1 + 1\n",
    "    values = np.arange(x1, x2)\n",
    "    pmf = (values - x1) / scipy.special.comb(n, 2)\n",
    "    return values, pmf\n",
    "\n",
    "x_values, x_pmf = make_uniform(-3, 3)\n",
    "x_values, x_pmf = make_ramp(-3, 3)\n",
    "y_values, y_pmf = make_uniform(-3, 3)\n",
    "y_values, y_pmf = make_ramp(-3, 3)"
   ]
  },
  {
   "cell_type": "code",
   "execution_count": null,
   "metadata": {},
   "outputs": [],
   "source": [
    "x_grid, y_grid = np.meshgrid(x_values, y_values)\n",
    "x_pmf_grid, y_pmf_grid = np.meshgrid(x_pmf, y_pmf)\n",
    "\n",
    "gridspec_kw = {\n",
    "    'width_ratios': [0.1, 1.],\n",
    "    'height_ratios': [1., 0.1],\n",
    "}\n",
    "fig, ((ax0, ax1), (ax2, ax3)) = plt.subplots(2, 2, figsize=(6, 6), gridspec_kw=gridspec_kw, constrained_layout=True)\n",
    "\n",
    "pcm = ax1.pcolormesh(x_grid, y_grid, x_pmf_grid * y_pmf_grid, vmin=0, cmap='bone')\n",
    "ax1.grid()\n",
    "ax1.set_xlabel('X')\n",
    "ax1.set_ylabel('Y')\n",
    "ax1.set_title('f(X, Y)')\n",
    "\n",
    "y_gridx, y_gridy = np.meshgrid([0, 1], y_values)\n",
    "_, y_pmfgridy = np.meshgrid([0, 1], y_pmf)\n",
    "ax0.pcolormesh(y_gridx, y_gridy, y_pmfgridy, cmap='bone')\n",
    "ax0.grid()\n",
    "ax0.set_xticklabels([])\n",
    "ax0.set_yticklabels([])\n",
    "#ax0.set_ylabel('Y')\n",
    "\n",
    "x_gridx, x_gridy = np.meshgrid(x_values, [0, 1])\n",
    "x_pmfgridx, _ = np.meshgrid(x_pmf, [0, 1])\n",
    "ax3.pcolormesh(x_gridx, x_gridy, x_pmfgridx, cmap='bone')\n",
    "ax3.grid()\n",
    "ax3.set_xticklabels([])\n",
    "ax3.set_yticklabels([])\n",
    "#ax3.set_xlabel('X')\n",
    "\n",
    "ax2.axis('off')\n",
    "None"
   ]
  }
 ],
 "metadata": {
  "kernelspec": {
   "display_name": "Python 3",
   "language": "python",
   "name": "python3"
  },
  "language_info": {
   "codemirror_mode": {
    "name": "ipython",
    "version": 3
   },
   "file_extension": ".py",
   "mimetype": "text/x-python",
   "name": "python",
   "nbconvert_exporter": "python",
   "pygments_lexer": "ipython3",
   "version": "3.7.2"
  }
 },
 "nbformat": 4,
 "nbformat_minor": 4
}
