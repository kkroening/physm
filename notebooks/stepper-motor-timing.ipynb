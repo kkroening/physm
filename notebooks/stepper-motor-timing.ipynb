{
 "cells": [
  {
   "cell_type": "code",
   "execution_count": null,
   "metadata": {},
   "outputs": [],
   "source": [
    "import pandas as pd\n",
    "from IPython.display import display"
   ]
  },
  {
   "cell_type": "code",
   "execution_count": null,
   "metadata": {},
   "outputs": [],
   "source": [
    "gpio_state = [1, 0, 0, 0]\n",
    "gpio_states = []\n",
    "dt = 5\n",
    "\n",
    "for i in range(3):\n",
    "    for index1 in range(4):\n",
    "        index2 = (index1 + 1) % 4\n",
    "        gpio_state[index2] = 1\n",
    "        gpio_states += [gpio_state.copy()] * dt\n",
    "        gpio_state[index1] = 0\n",
    "        gpio_states += [gpio_state.copy()] * dt"
   ]
  },
  {
   "cell_type": "code",
   "execution_count": null,
   "metadata": {},
   "outputs": [],
   "source": [
    "pd.DataFrame(gpio_states).plot.line(subplots=True, layout=(4, 1));"
   ]
  },
  {
   "cell_type": "code",
   "execution_count": null,
   "metadata": {},
   "outputs": [],
   "source": []
  }
 ],
 "metadata": {
  "kernelspec": {
   "display_name": "Python 3",
   "language": "python",
   "name": "python3"
  },
  "language_info": {
   "codemirror_mode": {
    "name": "ipython",
    "version": 3
   },
   "file_extension": ".py",
   "mimetype": "text/x-python",
   "name": "python",
   "nbconvert_exporter": "python",
   "pygments_lexer": "ipython3",
   "version": "3.7.2"
  }
 },
 "nbformat": 4,
 "nbformat_minor": 4
}
