{
 "cells": [
  {
   "cell_type": "code",
   "execution_count": null,
   "metadata": {},
   "outputs": [],
   "source": [
    "import ipywidgets\n",
    "import io\n",
    "import IPython.display\n",
    "import ffmpeg\n",
    "import matplotlib\n",
    "import numpy as np\n",
    "import PIL\n",
    "import tensorflow as tf\n",
    "from contextlib import closing\n",
    "from contextlib import contextmanager\n",
    "from IPython.display import display\n",
    "from ipywidgets import interact\n",
    "from jupyter_renderer_widget import PyplotRenderer\n",
    "from matplotlib import pyplot as plt\n",
    "from tqdm.notebook import tqdm"
   ]
  },
  {
   "cell_type": "code",
   "execution_count": null,
   "metadata": {},
   "outputs": [],
   "source": [
    "class Linear(tf.keras.Model):\n",
    "    def __init__(self):\n",
    "        super(Linear, self).__init__()\n",
    "        self.W = tf.Variable(5., name='weight')\n",
    "        self.B = tf.Variable(10., name='bias')\n",
    "\n",
    "    def call(self, inputs):\n",
    "        return inputs * self.W + self.B"
   ]
  },
  {
   "cell_type": "code",
   "execution_count": null,
   "metadata": {},
   "outputs": [],
   "source": [
    "train_niterations = 5000\n",
    "train_nsamples = 40\n",
    "train_xs = tf.random.uniform([train_nsamples]) * 10\n",
    "noise = tf.random.normal([train_nsamples])\n",
    "train_ys = train_xs * 3 + 2 + noise"
   ]
  },
  {
   "cell_type": "code",
   "execution_count": null,
   "metadata": {},
   "outputs": [],
   "source": [
    "def get_loss(model, xs, ys):\n",
    "    error = model(xs) - ys\n",
    "    return tf.reduce_mean(tf.square(error))\n",
    "\n",
    "model = Linear()\n",
    "weight_snapshots = [model.get_weights()]\n",
    "loss_snapshots = [get_loss(model, train_xs, train_ys)]\n",
    "print(\"Initial loss: {:.3f}\".format(loss_snapshots[0]))\n",
    "\n",
    "optimizer = tf.keras.optimizers.Adam(learning_rate=0.01)\n",
    "for i in range(train_niterations):\n",
    "    with tf.GradientTape() as tape:\n",
    "        loss_value = get_loss(model, train_xs, train_ys)\n",
    "    grads = tape.gradient(loss_value, model.weights)\n",
    "    optimizer.apply_gradients(zip(grads, model.weights))\n",
    "    loss_snapshots.append(loss_value)\n",
    "    weight_snapshots.append(model.get_weights())\n",
    "    \n",
    "print(\"Final loss: {:.3f}\".format(loss_snapshots[-1]))"
   ]
  },
  {
   "cell_type": "code",
   "execution_count": null,
   "metadata": {},
   "outputs": [],
   "source": [
    "sub_snapshots = weight_snapshots[::40]\n",
    "\n",
    "def render(ax, frame_num):\n",
    "    ax.clear()\n",
    "    weights = sub_snapshots[frame_num]\n",
    "    model.set_weights(weights)\n",
    "    model_xs = tf.constant([0., 10.])\n",
    "    model_ys = model(model_xs)\n",
    "    ax.plot(model_xs.numpy(), model_ys.numpy())\n",
    "    ax.plot(train_xs.numpy(), train_ys.numpy(), 'go')\n",
    "    ax.set_xlim(0, 10)\n",
    "    ax.set_ylim(0, 40)\n",
    "\n",
    "frame_count = len(sub_snapshots)\n",
    "display(PyplotRenderer(render, frame_count))"
   ]
  }
 ],
 "metadata": {
  "kernelspec": {
   "display_name": "Python 3",
   "language": "python",
   "name": "python3"
  },
  "language_info": {
   "codemirror_mode": {
    "name": "ipython",
    "version": 3
   },
   "file_extension": ".py",
   "mimetype": "text/x-python",
   "name": "python",
   "nbconvert_exporter": "python",
   "pygments_lexer": "ipython3",
   "version": "3.7.2"
  }
 },
 "nbformat": 4,
 "nbformat_minor": 4
}
