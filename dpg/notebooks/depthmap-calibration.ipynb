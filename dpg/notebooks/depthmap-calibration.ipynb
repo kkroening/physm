{
 "cells": [
  {
   "cell_type": "code",
   "execution_count": null,
   "metadata": {},
   "outputs": [],
   "source": [
    "import functools\n",
    "import numpy as np\n",
    "import pandas as pd\n",
    "import matplotlib.pyplot as plt\n",
    "import scipy.optimize"
   ]
  },
  {
   "cell_type": "code",
   "execution_count": null,
   "metadata": {},
   "outputs": [],
   "source": [
    "df = pd.read_csv('calibration/depthmap_distance_train.csv').iloc[1:]\n",
    "\n",
    "def f_unoptimized(a, x):\n",
    "    if a[0] - x <= 0 or a[1] == 0:\n",
    "        return None\n",
    "    return np.sqrt(a[0] - x) / a[1]\n",
    "\n",
    "def f_total_loss(a):\n",
    "    guesses = df['distance'].map(lambda x: f_unoptimized(a, x))\n",
    "    return (guesses - df['depthmap_value']).fillna(0.)\n",
    "\n",
    "guess_params = (12., 3.)\n",
    "optimal_params = scipy.optimize.least_squares(f_total_loss, guess_params).x\n",
    "\n",
    "calibration_info = {'x{}'.format(i): x for i, x in enumerate(optimal_params)}\n",
    "calibration_info['loss'] = f_total_loss(optimal_params)\n",
    "\n",
    "f_optimized = lambda x: f_unoptimized(optimal_params, x)\n",
    "df['guess'] = df['distance'].map(f_optimized)\n",
    "\n",
    "fig, ax = plt.subplots()\n",
    "ax = df.plot(ax=ax, kind='line', x='distance', y='depthmap_value')\n",
    "ax = df.plot(ax=ax, kind='line', x='distance', y='guess')\n",
    "plt.show()\n",
    "print('Optimal params: {}'.format(optimal_params))\n",
    "\n",
    "\n",
    "calibration_info = {'x{}'.format(i): x for i, x in enumerate(optimal_params)}\n",
    "calibration_info['loss'] = sum(f_total_loss(optimal_params) ** 2)\n",
    "print(calibration_info)"
   ]
  },
  {
   "cell_type": "code",
   "execution_count": null,
   "metadata": {},
   "outputs": [],
   "source": [
    "def score(args):\n",
    "    a, b = args\n",
    "    guess = depth['Dist'].map(lambda x: np.sqrt(a - x) / b)\n",
    "    error = sum((depth['Depth'] - guess).dropna() ** 2)\n",
    "    return error\n",
    "\n",
    "scipy.optimize.minimize(score, (12, 3.5))"
   ]
  }
 ],
 "metadata": {
  "kernelspec": {
   "display_name": "Python 3",
   "language": "python",
   "name": "python3"
  },
  "language_info": {
   "codemirror_mode": {
    "name": "ipython",
    "version": 3
   },
   "file_extension": ".py",
   "mimetype": "text/x-python",
   "name": "python",
   "nbconvert_exporter": "python",
   "pygments_lexer": "ipython3",
   "version": "3.5.3"
  }
 },
 "nbformat": 4,
 "nbformat_minor": 2
}
