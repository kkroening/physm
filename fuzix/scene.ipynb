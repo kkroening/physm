{
 "cells": [
  {
   "cell_type": "code",
   "execution_count": null,
   "metadata": {},
   "outputs": [],
   "source": [
    "from functools import reduce\n",
    "from fuzix.sims.pendulumcart import draw_world\n",
    "from fuzix.sims.pendulumcart import simulate\n",
    "from fuzix.utils import do_render_animation\n",
    "from fuzix.utils import render_animation\n",
    "from fuzix.utils import render_animation_iter\n",
    "from fuzix.utils import memoize\n",
    "from fuzix.utils import RendererWidget\n",
    "from fuzix.utils import timed\n",
    "from fuzix.utils import renderer_scope\n",
    "from fuzix.draw_utils import draw_circle\n",
    "from fuzix.draw_utils import draw_rect\n",
    "from fuzix.draw_utils import draw_line\n",
    "from IPython.display import display\n",
    "from IPython.display import HTML\n",
    "from IPython.display import Markdown\n",
    "from ipywidgets import interact\n",
    "from matplotlib import pyplot as plt, cm, animation, rc\n",
    "from matplotlib.lines import Line2D\n",
    "from sympy.physics.mechanics import dynamicsymbols, init_vprinting\n",
    "import daglet\n",
    "import functools\n",
    "import ipywidgets\n",
    "import matplotlib\n",
    "import matplotlib.patches as patches\n",
    "import numbers\n",
    "import numpy as np\n",
    "import operator\n",
    "import sympy as sp\n",
    "from fuzix.scene import Param\n",
    "from fuzix.scene import Block\n",
    "from fuzix.scene import State\n",
    "from fuzix.scene import Rod\n",
    "from fuzix.scene import Connector\n",
    "from fuzix.scene import Scene\n",
    "from fuzix.scene import Ball\n",
    "from fuzix.scene import HingeRod\n",
    "from fuzix.scene import World\n",
    "from fuzix.scene import show_scene_viewer\n",
    "from fuzix.scene import show_renderer\n",
    "from fuzix.scene import Simulator\n",
    "from fuzix.scene import Spring"
   ]
  },
  {
   "cell_type": "code",
   "execution_count": null,
   "metadata": {},
   "outputs": [],
   "source": [
    "%matplotlib inline\n",
    "rc('animation', html='html5')\n",
    "#rc('animation', html='jshtml')\n",
    "\n",
    "sp.init_printing(use_unicode=True)\n",
    "init_vprinting()"
   ]
  },
  {
   "cell_type": "code",
   "execution_count": null,
   "metadata": {},
   "outputs": [],
   "source": [
    "theta1 = State()\n",
    "theta2 = State()\n",
    "scene = Scene([\n",
    "    Connector()\n",
    "    | World()\n",
    "    | Ball(mass=0.1)\n",
    "    | HingeRod(angle=theta1)\n",
    "    | Ball()\n",
    "    | HingeRod(angle=theta2)\n",
    "    | Ball()\n",
    "\n",
    "])\n",
    "\n",
    "params = {}\n",
    "initial_state = {}\n",
    "scale = 0.8\n",
    "\n",
    "@interact(\n",
    "    theta1_=(-np.pi, np.pi),\n",
    "    theta2_=(-np.pi, np.pi),\n",
    ")\n",
    "def f(\n",
    "        theta1_=1.8,\n",
    "        theta2_=0.9,\n",
    "):\n",
    "    global params, initial_state\n",
    "    params.update({\n",
    "    })\n",
    "    initial_state.update({\n",
    "        theta1: theta1_,\n",
    "        theta2: theta2_,\n",
    "    })\n",
    "    scene.draw(params=params, state=initial_state, scale=scale)"
   ]
  },
  {
   "cell_type": "code",
   "execution_count": null,
   "metadata": {},
   "outputs": [],
   "source": [
    "simulator = Simulator(scene)"
   ]
  },
  {
   "cell_type": "code",
   "execution_count": null,
   "metadata": {},
   "outputs": [],
   "source": [
    "params = {}\n",
    "#initial_state = {\n",
    "#    #angle1: 1.8,\n",
    "#}\n",
    "\n",
    "print(scene.Q)\n",
    "l1 = 3.\n",
    "l2 = 3.\n",
    "m1 = 1.\n",
    "m2 = 1.\n",
    "g = 10.\n",
    "\n",
    "def get_ddt2(t1, t2, dt1, dt2):\n",
    "    return 1/(m2*l2**2-1/(m1+m2)*(m2*l1*l2*np.cos(t2-t1))) * (m2*l1*l2*dt1*(dt2-dt1)*np.sin(t2-t1)-m2*g*np.cos(t2)-1/(m1+m2)*(m2*l1*l2*np.cos(t2-t1))*(m2*l1*l2*dt2*(dt2-dt1)*np.sin(t2-t1)-(m1+m2)*g*np.cos(t1)))\n",
    "\n",
    "def get_ddt1(t1, t2, dt1, dt2):\n",
    "    ddt2 = get_ddt2(t1, t2, dt1, dt2)\n",
    "    return 1/((m1+m2)*l1**2) * (m2*l1*l2*dt2*(dt2-dt1)*np.sin(t2-t1)-(m1+m2)*g*np.cos(t1) - m2*l1*l2*np.cos(t2-t1)*ddt2)\n",
    "\n",
    "funcs = [\n",
    "    #lambda theta1, theta2, dtheta1, dtheta2: m2*l2*np.sin(theta2-theta1)-GRAVITY/l1*np.sin(theta1),\n",
    "    #lambda theta1, theta2, dtheta1, dtheta2: -m2*l1*np.sin(theta2-theta1)-GRAVITY/l2*np.sin(theta2),\n",
    "    get_ddt1,\n",
    "    get_ddt2,\n",
    "]\n",
    "funcs = None\n",
    "states = simulator.run(params, initial_state, max_time=500, funcs=funcs)\n",
    "show_scene_viewer(scene, params, states, scale=scale)\n",
    "show_renderer(scene, params, states, scale=scale, sample_interval=6)"
   ]
  },
  {
   "cell_type": "code",
   "execution_count": null,
   "metadata": {},
   "outputs": [],
   "source": [
    "#t = sp.Symbol('t')\n",
    "#Q = [symbol for symbol, _ in scene.state_symbols]\n",
    "#dQ = [q.diff(t) for q in Q]\n",
    "#\n",
    "#L = scene.get_energy_expr(t)\n",
    "#\n",
    "#display(Markdown('## Lagrangian:'))\n",
    "#display(sp.Eq(sp.Symbol('L'), L))\n",
    "#\n",
    "#display(Markdown('## Lagrange Equations:'))\n",
    "#eqs = [get_lagrange_eq(L, q, t) for q in Q]\n",
    "#display({q.diff(t, 2): eq for q, eq in zip(Q, eqs)})"
   ]
  },
  {
   "cell_type": "code",
   "execution_count": null,
   "metadata": {},
   "outputs": [],
   "source": [
    "#eqs = solve_lagrangian(L, Q, t)"
   ]
  },
  {
   "cell_type": "code",
   "execution_count": null,
   "metadata": {},
   "outputs": [],
   "source": [
    "#params = {symbol: default_value for symbol, default_value in scene.param_symbols}\n",
    "#funcs = get_funcs(Q, eqs, params)"
   ]
  },
  {
   "cell_type": "code",
   "execution_count": null,
   "metadata": {},
   "outputs": [],
   "source": [
    "world = World()\n",
    "track = world | TrackSpec()\n",
    "block = track | BlockSpec()\n",
    "hinge = block | HingeSpec()\n",
    "rod = hinge | RodSpec()\n",
    "ball = rod | BallSpec()\n",
    "\n",
    "scene = Scene([ball2])\n",
    "\n",
    "@interact(\n",
    "    track_x=(-2., 15.),\n",
    "    hinge_theta=(-2*np.pi, 2*np.pi),\n",
    ")\n",
    "def f(\n",
    "    track_x=2.,\n",
    "    rod_length=3.,\n",
    "    hinge_theta=0.5,\n",
    "):\n",
    "    params = {\n",
    "        rod.spec.length: rod_length,\n",
    "        world.spec.gravity: 10.,\n",
    "        block.spec.mass: 1.,\n",
    "        ball.spec.mass: 1.,\n",
    "    }\n",
    "    state = {\n",
    "        hinge.spec.theta: hinge_theta,\n",
    "        track.spec.x: track_x,\n",
    "        hinge.spec.theta.diff(t): 0.,\n",
    "        track.spec.x.diff(t): 0.,\n",
    "    }\n",
    "    fig, ax = plt.subplots()\n",
    "    scene.draw(ax, params, state)"
   ]
  },
  {
   "cell_type": "code",
   "execution_count": null,
   "metadata": {},
   "outputs": [],
   "source": [
    "def fig2np(fig):\n",
    "    fig.canvas.draw() \n",
    "    w, h = fig.canvas.get_width_height()\n",
    "    buffer = fig.canvas.buffer_rgba()\n",
    "    return (\n",
    "        np\n",
    "        .frombuffer(buffer, dtype=np.uint8)\n",
    "        .reshape(h, w, 4)\n",
    "    )\n",
    "\n",
    "\n",
    "fig, ax = plt.subplots(dpi=100)\n",
    "for x_ in np.linspace(0., 2., 5):\n",
    "    params = {}\n",
    "    initial_state = {\n",
    "        x: x_,\n",
    "    }\n",
    "    scene.draw(ax, params=params, state=initial_state, scale=scale)\n",
    "    ax.axis('off')\n",
    "    image = fig2np(fig)\n",
    "\n",
    "    ax.clear()\n",
    "    \n",
    "fig.clear()\n",
    "\n",
    "fig, ax2 = plt.subplots(figsize=(16*.8, 9*.8))\n",
    "ax2.imshow(image, aspect='equal', interpolation='hanning')\n",
    "ax2.axis('off')\n",
    "None"
   ]
  },
  {
   "cell_type": "code",
   "execution_count": null,
   "metadata": {},
   "outputs": [],
   "source": [
    "image.shape"
   ]
  },
  {
   "cell_type": "code",
   "execution_count": null,
   "metadata": {},
   "outputs": [],
   "source": [
    "np.stack([image, image, image]).shape"
   ]
  },
  {
   "cell_type": "code",
   "execution_count": null,
   "metadata": {},
   "outputs": [],
   "source": [
    "def sample_iter(iterator, sample_interval):\n",
    "    return islice(iterator, 0, None, sample_interval)\n",
    "\n",
    "\n",
    "with timed() as timing:\n",
    "    sample_interval = 5\n",
    "    frames = []\n",
    "    with renderer_scope(frames) as frame_scope:\n",
    "        iterator = simulator.iterate(params, initial_state, max_time=300)\n",
    "        for state in sample_iter(iterator, sample_interval):\n",
    "            with frame_scope() as ax:\n",
    "                scene.draw(ax, params=params, state=state, scale=scale)\n",
    "\n",
    "timing[0], len(frames)"
   ]
  },
  {
   "cell_type": "code",
   "execution_count": null,
   "metadata": {},
   "outputs": [],
   "source": [
    "with timed() as timing:\n",
    "    states = list(simulator.iterate(params, initial_state, max_time=300))\n",
    "    draw_func = lambda ax, time_index: scene.draw(ax, params, states[time_index], scale=scale)\n",
    "    anim = do_render_animation(draw_func, len(states), sample_interval)\n",
    "    anim.save('anim.mp4')\n",
    "\n",
    "#display(anim)\n",
    "timing[0]"
   ]
  },
  {
   "cell_type": "code",
   "execution_count": null,
   "metadata": {},
   "outputs": [],
   "source": [
    "\n",
    "@interact(t=(0, len(frames) - 1))\n",
    "def f(t=0):\n",
    "    fig, ax = plt.subplots(figsize=(16*.8, 9*.8))\n",
    "    ax.axis('off')\n",
    "    ax.imshow(frames[t], aspect='equal', interpolation='hanning')"
   ]
  }
 ],
 "metadata": {
  "kernelspec": {
   "display_name": "Python 3",
   "language": "python",
   "name": "python3"
  },
  "language_info": {
   "codemirror_mode": {
    "name": "ipython",
    "version": 3
   },
   "file_extension": ".py",
   "mimetype": "text/x-python",
   "name": "python",
   "nbconvert_exporter": "python",
   "pygments_lexer": "ipython3",
   "version": "3.7.2"
  }
 },
 "nbformat": 4,
 "nbformat_minor": 2
}
